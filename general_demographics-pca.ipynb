{
 "cells": [
  {
   "cell_type": "markdown",
   "metadata": {},
   "source": [
    "# general_demographics-pca.ipynb\n",
    "\n",
    "### CSc-59867 - Senior Design - Prof. Etemadpour\n",
    "\n",
    "* Purpose: exploratory data analysis on the NYC census demographics dataset from NYC Open Data\n",
    "* Date started: 2021-02-26\n",
    "* Authors: Xin Chen, Ian S. McBride, Lifu Tao"
   ]
  },
  {
   "cell_type": "code",
   "execution_count": null,
   "metadata": {
    "tags": []
   },
   "outputs": [],
   "source": [
    "import matplotlib.patheffects as PathEffects\n",
    "import matplotlib.pyplot as plt\n",
    "%matplotlib inline\n",
    "import numpy as np\n",
    "import pandas as pd\n",
    "import seaborn as sns\n",
    "from sklearn.decomposition import PCA\n",
    "from sklearn.manifold import TSNE\n",
    "from sklearn.preprocessing import StandardScaler\n",
    "\n",
    "import time"
   ]
  },
  {
   "cell_type": "markdown",
   "metadata": {},
   "source": [
    "### Access dataset"
   ]
  },
  {
   "cell_type": "code",
   "execution_count": null,
   "metadata": {
    "tags": []
   },
   "outputs": [],
   "source": [
    "# Read datasets into a DataFrame\n",
    "# * Data came from:\n",
    "#     * https://data.cityofnewyork.us/City-Government/Census-Demographics-at-the-NYC-Community-District-/5unr-w4sc\n",
    "# * Data was reorganized because the original spreadsheet wasn't formatted well\n",
    "# * Discussion of variable meanings\n",
    "#     * https://www.2020census.gov/en/conducting-the-count/gq.html\n",
    "df = pd.read_csv('data/general_demographics/nyc_demographics_2010_by_cd.csv', index_col='variable_edit')"
   ]
  },
  {
   "cell_type": "markdown",
   "metadata": {},
   "source": [
    "### Display data"
   ]
  },
  {
   "cell_type": "code",
   "execution_count": null,
   "metadata": {},
   "outputs": [],
   "source": [
    "df.drop(columns=['variable_orig'], inplace=True)\n",
    "df = df.transpose()\n",
    "df = df.astype(float)\n",
    "df.sort_index(inplace=True)\n",
    "display('Transposed, sorted dataframe')\n",
    "display(df.info())\n",
    "display(df.head())"
   ]
  },
  {
   "cell_type": "markdown",
   "metadata": {},
   "source": [
    "### Create helpers"
   ]
  },
  {
   "cell_type": "code",
   "execution_count": null,
   "metadata": {},
   "outputs": [],
   "source": [
    "columns = df.columns.to_list()\n",
    "columns_nested = {\n",
    "    'total': ['total-population'],\n",
    "    'race': [\n",
    "         'race-white-nonhispanic',\n",
    "         'race-black-nonhispanic',\n",
    "         'race-asian-and-pacific-islander-nonhispanic',\n",
    "         'race-other-nonhispanic',\n",
    "         'race-two-or-more-races-nonhispanic',\n",
    "         'race-hispanic-origin',\n",
    "    ],\n",
    "    'sex': [\n",
    "         'sex-female',\n",
    "         'sex-male',\n",
    "    ],\n",
    "    'age': [\n",
    "         'age-under-5-years',\n",
    "         'age-5-to-9-years',\n",
    "         'age-10-to-14-years',\n",
    "         'age-15-to-19-years',\n",
    "         'age-20-to-24-years',\n",
    "         'age-25-to-44-years',\n",
    "         'age-45-to-64-years',\n",
    "         'age-65-years-and-over',\n",
    "         'age-nonminors',        \n",
    "    ],\n",
    "    'persons-living-in': [\n",
    "         'persons-living-in-households',\n",
    "         'persons-living-in-group-quarters',\n",
    "    ],\n",
    "    'persons-living-in-family-households': [\n",
    "         'persons-living-in-family-households',\n",
    "         'persons-living-in-family-households-householder',\n",
    "         'persons-living-in-family-households-spouse',\n",
    "         'persons-living-in-family-households-own-child-under-18-years',\n",
    "         'persons-living-in-family-households-other-relatives',\n",
    "         'persons-living-in-family-households-nonrelatives',\n",
    "    ],\n",
    "    'persons-living-in-nonfamily-households': [\n",
    "         'persons-living-in-nonfamily-household',\n",
    "         'persons-living-in-nonfamily-household-householder',\n",
    "         'persons-living-in-nonfamily-household-senior-alone',\n",
    "         'persons-living-in-nonfamily-household-nonrelatives',  \n",
    "    ],\n",
    "    'households': [\n",
    "         'households',\n",
    "         'households-family-households',\n",
    "         'households-nonfamily-households',\n",
    "         'households-with-seniors',\n",
    "    ],\n",
    "    'family-households': [\n",
    "         'family-households-married-couple-family',\n",
    "         'family-households-married-couple-with-minor-child',\n",
    "         'family-households-female-householder-no-husband-present',\n",
    "         'family-households-female-householder-with-minor-child',\n",
    "         'family-households-male-householder-no-wife-present',\n",
    "         'family-households-male-householder-with-minor-child',\n",
    "    ],\n",
    "    'persons-per': [\n",
    "         'persons-per-family',\n",
    "         'persons-per-household',        \n",
    "    ],\n",
    "    'housing-units': [\n",
    "         'housing-units',\n",
    "         'housing-units-occupied',\n",
    "         'housing-units-occupied-renter',\n",
    "         'housing-units-occupied-owner',\n",
    "         'housing-unit-size-1-person',\n",
    "         'housing-unit-size-2-person',\n",
    "         'housing-unit-size-3-person',\n",
    "         'housing-unit-size-4-person',\n",
    "         'housing-unit-size-5-persons-and-over',\n",
    "         'housing-units-by-age-of-householder-15-to-24-years',\n",
    "         'housing-units-by-age-of-householder-25-to-44-years',\n",
    "         'housing-units-by-age-of-householder-45-to-64-years',\n",
    "         'housing-units-by-age-of-householder-65-years-and-over',\n",
    "    ],\n",
    "}"
   ]
  },
  {
   "cell_type": "code",
   "execution_count": null,
   "metadata": {
    "tags": []
   },
   "outputs": [],
   "source": [
    "# Helper for displaying CD numbers\n",
    "cd_boro_dict = {\n",
    "    1: 'Manhattan',\n",
    "    2: 'Bronx',\n",
    "    3: 'Brooklyn',\n",
    "    4: 'Queens',\n",
    "    5: 'Staten Island',\n",
    "}\n",
    "def cd_to_name(cd):\n",
    "    cd_str = str(cd)\n",
    "    if not len(cd_str) == 3:\n",
    "        raise Exception('incorrect length of CD')\n",
    "    cd_num = cd_str[1:]\n",
    "    boro = cd_boro_dict.get(int(cd_str[0]))\n",
    "    if not boro:\n",
    "        raise Exception('incorrect borough prefix in CD')\n",
    "    return f'{boro} CD-{cd_num}'\n",
    "def cd_to_borough_num(cd):\n",
    "    cd_str = str(cd)\n",
    "    if not len(cd_str) == 3:\n",
    "        raise Exception('incorrect length of CD')\n",
    "    cd_num = cd_str[1:]\n",
    "    boro = cd_boro_dict.get(int(cd_str[0]))\n",
    "    if not boro:\n",
    "        raise Exception('incorrect borough prefix in CD')\n",
    "    return int(cd_str[0]) - 1\n",
    "def cd_to_borough(cd):\n",
    "    cd_str = str(cd)\n",
    "    if not len(cd_str) == 3:\n",
    "        raise Exception('incorrect length of CD')\n",
    "    cd_num = cd_str[1:]\n",
    "    boro = cd_boro_dict.get(int(cd_str[0]))\n",
    "    if not boro:\n",
    "        raise Exception('incorrect borough prefix in CD')\n",
    "    return boro"
   ]
  },
  {
   "cell_type": "markdown",
   "metadata": {},
   "source": [
    "### Plot correlation"
   ]
  },
  {
   "cell_type": "code",
   "execution_count": null,
   "metadata": {},
   "outputs": [],
   "source": [
    "fig = plt.figure(figsize=(12, 12))\n",
    "ax = fig.add_subplot(1, 1, 1)\n",
    "\n",
    "corr_matrix = df.corr().values\n",
    "_ = sns.heatmap(corr_matrix, ax=ax)\n",
    "_ = ax.set_title('Correlation matrix')"
   ]
  },
  {
   "cell_type": "markdown",
   "metadata": {},
   "source": [
    "### Select features, scale data, run PCA"
   ]
  },
  {
   "cell_type": "code",
   "execution_count": null,
   "metadata": {},
   "outputs": [],
   "source": [
    "# Helper functions\n",
    "def select_feat(df, features_nested, exclude_group=None):\n",
    "    result = df.copy()\n",
    "    if not exclude_group:\n",
    "        pass\n",
    "    elif type(exclude_group) == str:\n",
    "        result.drop(columns=features_nested[exclude_group], inplace=True)\n",
    "    elif type(exclude_group) == list:\n",
    "        [result.drop(columns=features_nested[group], inplace=True) for group in exclude_group]\n",
    "    else:\n",
    "        raise Exception('bad type of exclude_group parameter')\n",
    "    \n",
    "    return result\n",
    "\n",
    "def scale_data(df):\n",
    "    scaler = StandardScaler()\n",
    "    X = scaler.fit_transform(df.values)\n",
    "    return X\n",
    "\n",
    "def run_pca(X, feature_names, n_components=5):\n",
    "    # Run and time the PCA\n",
    "    time_start = time.time()\n",
    "    pca = PCA(n_components=n_components)\n",
    "    pca_result = pca.fit_transform(X)\n",
    "    elapsed_time = time.time() - time_start\n",
    "    print(f'PCA done! Time elapsed: {elapsed_time:0.2} seconds')\n",
    "    explained_var = pca.explained_variance_ratio_\n",
    "    print('Cumulative explained variance ratio', np.cumsum(explained_var))\n",
    "    print('Shape of components:', pca.components_.shape)\n",
    "\n",
    "    # Plot explained variance ratio\n",
    "    indicies = range(1, len(explained_var) + 1)\n",
    "    fig = plt.figure(figsize=(8, 8))\n",
    "    ax = fig.add_subplot(1, 1, 1)\n",
    "    _ = plt.plot(\n",
    "        indicies,\n",
    "        explained_var,\n",
    "        alpha=0.5,\n",
    "        marker='o',\n",
    "    )\n",
    "    _ = ax.set_xlabel('PC')\n",
    "    _ = ax.set_ylabel('Explained variance ratio')\n",
    "    _ = ax.set_xticks(indicies)\n",
    "    _ = ax.set_title('PCA Results')\n",
    "    \n",
    "    # Plot principle components as mixtures of features in matrix heatmap\n",
    "    # Inspired by the tutorial:\n",
    "    # https://towardsdatascience.com/dive-into-pca-principal-component-analysis-with-python-43ded13ead21\n",
    "    ticks = list(range(n_components))\n",
    "    labels = [f'PC-{i}' for i in range(1, n_components + 1)]\n",
    "    _ = plt.matshow(pca.components_.T, cmap='coolwarm')\n",
    "    _ = plt.yticks(range(len(feature_names)), feature_names, ha='right')\n",
    "    _ = plt.xticks(ticks, labels, fontsize=10, rotation=65)\n",
    "    _ = plt.colorbar()\n",
    "    _ = plt.title('Mixture of features in each PC')\n",
    "    \n",
    "    # Plot pca results as scatter matrix\n",
    "    component_names = [f'PC-{i + 1}' for i in ticks]\n",
    "    pca_df = pd.DataFrame(columns=component_names)\n",
    "    for i, name in zip(ticks, component_names):\n",
    "        pca_df[name] = pca_result[:, i]\n",
    "\n",
    "    _ = pd.plotting.scatter_matrix(pca_df, figsize=(12, 12))\n",
    "    _ = plt.suptitle(f'Scatter matrix with {n_components} principle components')"
   ]
  },
  {
   "cell_type": "code",
   "execution_count": null,
   "metadata": {},
   "outputs": [],
   "source": [
    "# Use PCA helpers\n",
    "selected_df = select_feat(df, columns_nested)\n",
    "X = scale_data(selected_df)\n",
    "run_pca(X, selected_df.columns, n_components=5)"
   ]
  },
  {
   "cell_type": "markdown",
   "metadata": {},
   "source": [
    "### Run t-SNE"
   ]
  },
  {
   "cell_type": "code",
   "execution_count": null,
   "metadata": {},
   "outputs": [],
   "source": [
    "def run_tsne(x, classes, n_components=2):\n",
    "    # Execute t-SNE\n",
    "    RS = 123\n",
    "    time_start = time.time()\n",
    "    tsne_results = TSNE(random_state=RS, n_components=n_components).fit_transform(x)\n",
    "    elapsed_time = time.time() - time_start\n",
    "    print(f't-SNE done! Time elapsed: {elapsed_time:0.2} seconds')\n",
    "\n",
    "    # Put t-SNE results into a dataframe\n",
    "    df_tsne = pd.DataFrame(\n",
    "        data={\n",
    "            'x': tsne_results[:, 0],\n",
    "            'y': tsne_results[:, 1],\n",
    "            'class': classes\n",
    "        }\n",
    "    )\n",
    "\n",
    "    # Create axis\n",
    "    f = plt.figure(figsize=(8, 8))\n",
    "    ax = plt.subplot(aspect='equal')\n",
    "\n",
    "    # Plot each class\n",
    "    for cla in np.unique(classes):\n",
    "        ax.scatter(\n",
    "            x = df_tsne[df_tsne['class'] == cla]['x'],\n",
    "            y = df_tsne[df_tsne['class'] == cla]['y'],\n",
    "            label = cla\n",
    "        )\n",
    "\n",
    "    ax.legend()\n",
    "    plt.xlim(-25, 25)\n",
    "    plt.ylim(-25, 25)\n",
    "    ax.axis('off')\n",
    "    ax.axis('tight')"
   ]
  },
  {
   "cell_type": "code",
   "execution_count": null,
   "metadata": {},
   "outputs": [],
   "source": [
    "# Use t-SNE helper with boroughs as classes\n",
    "selected_df = select_feat(df, columns_nested)\n",
    "X = scale_data(selected_df)\n",
    "classes = np.array([cd_to_borough(cd) for cd in df.index])\n",
    "run_tsne(X, classes)"
   ]
  }
 ],
 "metadata": {
  "kernelspec": {
   "display_name": "Python 3",
   "language": "python",
   "name": "python3"
  },
  "language_info": {
   "codemirror_mode": {
    "name": "ipython",
    "version": 3
   },
   "file_extension": ".py",
   "mimetype": "text/x-python",
   "name": "python",
   "nbconvert_exporter": "python",
   "pygments_lexer": "ipython3",
   "version": "3.9.3"
  }
 },
 "nbformat": 4,
 "nbformat_minor": 5
}
