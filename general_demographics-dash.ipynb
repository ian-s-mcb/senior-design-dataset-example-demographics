{
 "cells": [
  {
   "cell_type": "markdown",
   "metadata": {},
   "source": [
    "# general_demographics-dash.ipynb\n",
    "\n",
    "### CSc-59867 - Senior Design - Prof. Etemadpour\n",
    "\n",
    "* Purpose: Present an interactive visualization with the NYC census demographics dataset from NYC Open Data\n",
    "* Date started: 2021-04-29\n",
    "* Authors: Xin Chen, Ian S. McBride, Lifu Tao"
   ]
  },
  {
   "cell_type": "code",
   "execution_count": null,
   "metadata": {
    "tags": []
   },
   "outputs": [],
   "source": [
    "from jupyter_dash import JupyterDash"
   ]
  },
  {
   "cell_type": "code",
   "execution_count": null,
   "metadata": {},
   "outputs": [],
   "source": [
    "import dash\n",
    "import dash_core_components as dcc\n",
    "import dash_html_components as html\n",
    "import pandas as pd\n",
    "import plotly.express as px\n",
    "from sklearn.preprocessing import StandardScaler\n",
    "from sklearn.manifold import TSNE"
   ]
  },
  {
   "cell_type": "markdown",
   "metadata": {},
   "source": [
    "When running in JupyterHub or Binder, call the `infer_jupyter_config` function to detect the proxy configuration."
   ]
  },
  {
   "cell_type": "code",
   "execution_count": null,
   "metadata": {},
   "outputs": [],
   "source": [
    "# JupyterDash.infer_jupyter_proxy_config()"
   ]
  },
  {
   "cell_type": "markdown",
   "metadata": {},
   "source": [
    "### Load and preprocess data"
   ]
  },
  {
   "cell_type": "code",
   "execution_count": null,
   "metadata": {},
   "outputs": [],
   "source": [
    "# Helper for displaying CD numbers\n",
    "cd_boro_dict = {\n",
    "    1: 'Manhattan',\n",
    "    2: 'Bronx',\n",
    "    3: 'Brooklyn',\n",
    "    4: 'Queens',\n",
    "    5: 'Staten Island',\n",
    "}\n",
    "def cd_to_name(cd):\n",
    "    cd_str = str(cd)\n",
    "    if not len(cd_str) == 3:\n",
    "        raise Exception('incorrect length of CD')\n",
    "    cd_num = cd_str[1:]\n",
    "    boro = cd_boro_dict.get(int(cd_str[0]))\n",
    "    if not boro:\n",
    "        raise Exception('incorrect borough prefix in CD')\n",
    "    return f'{boro} CD-{cd_num}'\n",
    "def cd_to_borough(cd):\n",
    "    cd_str = str(cd)\n",
    "    if not len(cd_str) == 3:\n",
    "        raise Exception('incorrect length of CD')\n",
    "    cd_num = cd_str[1:]\n",
    "    boro = cd_boro_dict.get(int(cd_str[0]))\n",
    "    if not boro:\n",
    "        raise Exception('incorrect borough prefix in CD')\n",
    "    return boro"
   ]
  },
  {
   "cell_type": "code",
   "execution_count": null,
   "metadata": {},
   "outputs": [],
   "source": [
    "# Load dataset\n",
    "df = pd.read_csv(\n",
    "    'data/general_demographics/nyc_demographics_2010_by_cd-preprocessed.csv',\n",
    "    index_col='cd',\n",
    ")\n",
    "# Scale data\n",
    "scaler = StandardScaler()\n",
    "df[df.columns] = scaler.fit_transform(df[df.columns])\n",
    "\n",
    "# Group labels\n",
    "classes = map(cd_to_borough, df.index.to_list())\n",
    "cds = map(cd_to_name, df.index.to_list())\n",
    "\n",
    "# Run t-SNE\n",
    "n_components = 2\n",
    "RS = 123\n",
    "tsne_results = TSNE(random_state=RS, n_components=n_components).fit_transform(df)\n",
    "df_tsne = pd.DataFrame(\n",
    "    data={\n",
    "        'x': tsne_results[:, 0],\n",
    "        'y': tsne_results[:, 1],\n",
    "        'class': classes,\n",
    "        'cd': cds,\n",
    "    }\n",
    ")"
   ]
  },
  {
   "cell_type": "markdown",
   "metadata": {},
   "source": [
    "### Construct the app and callbacks"
   ]
  },
  {
   "cell_type": "code",
   "execution_count": null,
   "metadata": {},
   "outputs": [],
   "source": [
    "app = JupyterDash(__name__)\n",
    "\n",
    "# # Create server variable with Flask server object for use with gunicorn\n",
    "# server = app.server\n",
    "\n",
    "app.layout = html.Div([\n",
    "    html.Div([\n",
    "        'Stub content'\n",
    "    ], style={}),\n",
    "    html.Div([\n",
    "        dcc.Dropdown(\n",
    "            id='scatter-dropdown',\n",
    "            options=[{'label': i, 'value': i} for i in ['a', 'b']],\n",
    "            value='a'\n",
    "        ),\n",
    "    ], style={}),\n",
    "    html.Div([\n",
    "        dcc.Graph(\n",
    "            id='scatter',\n",
    "            hoverData={'points': [{'customdata': ['Manhattan CD-09']}]}\n",
    "        )\n",
    "    ], style={}),\n",
    "    html.Div(\n",
    "        id='cd-name',\n",
    "        style={}\n",
    "    ),\n",
    "])\n",
    "\n",
    "@app.callback(\n",
    "    dash.dependencies.Output('scatter', 'figure'),\n",
    "    [dash.dependencies.Input('scatter-dropdown', 'value')])\n",
    "def create_scatter(dropdown):\n",
    "    return px.scatter(\n",
    "        df_tsne,\n",
    "        x='x', y='y', color='class',\n",
    "        hover_name='cd',\n",
    "        custom_data=['cd'],\n",
    "    )\n",
    "\n",
    "@app.callback(\n",
    "    dash.dependencies.Output('cd-name', 'children'),\n",
    "    [dash.dependencies.Input('scatter', 'hoverData')])\n",
    "def update_y_timeseries(hoverData):\n",
    "    return hoverData['points'][0]['customdata'][0]"
   ]
  },
  {
   "cell_type": "code",
   "execution_count": null,
   "metadata": {},
   "outputs": [],
   "source": [
    "# app.run_server() # Require opening a new browser tab to view app\n",
    "# app.run_server(mode=\"inline\") # Display app in notebook cell\n",
    "app.run_server(mode=\"jupyterlab\") # Display app in JupyterLab tab"
   ]
  }
 ],
 "metadata": {
  "jupytext": {
   "formats": "ipynb,py:percent"
  },
  "kernelspec": {
   "display_name": "Python 3",
   "language": "python",
   "name": "python3"
  },
  "language_info": {
   "codemirror_mode": {
    "name": "ipython",
    "version": 3
   },
   "file_extension": ".py",
   "mimetype": "text/x-python",
   "name": "python",
   "nbconvert_exporter": "python",
   "pygments_lexer": "ipython3",
   "version": "3.9.4"
  }
 },
 "nbformat": 4,
 "nbformat_minor": 4
}
