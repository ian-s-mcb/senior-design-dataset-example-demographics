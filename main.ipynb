{
 "cells": [
  {
   "cell_type": "markdown",
   "id": "identified-synthetic",
   "metadata": {},
   "source": [
    "# main.ipynb\n",
    "\n",
    "### CSc-59867 - Senior Design - Prof. Etemadpour\n",
    "\n",
    "* Purpose: exploratory data analysis on the NYC census demographics dataset from NYC Open Data\n",
    "* Date: 2021-02-26\n",
    "* Authors: Xin Chen, Ian S. McBride, Lifu Tao"
   ]
  },
  {
   "cell_type": "code",
   "execution_count": null,
   "id": "acceptable-pittsburgh",
   "metadata": {
    "tags": []
   },
   "outputs": [],
   "source": [
    "import matplotlib.pyplot as plt\n",
    "%matplotlib inline\n",
    "import numpy as np\n",
    "import pandas as pd\n",
    "from sklearn.decomposition import PCA\n",
    "from sklearn.preprocessing import Normalizer\n",
    "\n",
    "import time"
   ]
  },
  {
   "cell_type": "code",
   "execution_count": null,
   "id": "civil-forestry",
   "metadata": {
    "tags": []
   },
   "outputs": [],
   "source": [
    "# Read datasets into a DataFrame\n",
    "# * Data came from:\n",
    "#     * https://data.cityofnewyork.us/City-Government/Census-Demographics-at-the-NYC-Community-District-/5unr-w4sc\n",
    "# * Data was reorganized because the original spreadsheet wasn't formatted well\n",
    "# * Discussion of variable meanings\n",
    "#     * https://www.2020census.gov/en/conducting-the-count/gq.html\n",
    "df = pd.read_csv('data/demographics/nyc_demographics_2010_by_cd.csv', index_col='variable_edit')\n",
    "df.drop(columns=['variable_orig'], inplace=True)\n",
    "df = df.transpose()\n",
    "df = df.astype(float)\n",
    "df.sort_index(inplace=True)\n",
    "display('Transposed, sorted dataframe')\n",
    "display(df)"
   ]
  },
  {
   "cell_type": "code",
   "execution_count": null,
   "id": "aging-olympus",
   "metadata": {},
   "outputs": [],
   "source": [
    "df.info()"
   ]
  },
  {
   "cell_type": "code",
   "execution_count": null,
   "id": "worthy-technology",
   "metadata": {
    "tags": []
   },
   "outputs": [],
   "source": [
    "# Helper for displaying CD numbers\n",
    "cd_boro_dict = {\n",
    "    1: 'Manhattan',\n",
    "    2: 'Bronx',\n",
    "    3: 'Brooklyn',\n",
    "    4: 'Queens',\n",
    "    5: 'Staten Island',\n",
    "}\n",
    "def cd_to_name(cd):\n",
    "    cd_str = str(cd)\n",
    "    if not len(cd_str) == 3:\n",
    "        raise Exception('incorrect length of CD')\n",
    "    cd_num = cd_str[1:]\n",
    "    boro = cd_boro_dict.get(int(cd_str[0]))\n",
    "    if not boro:\n",
    "        raise Exception('incorrect borough prefix in CD')\n",
    "    return f'{boro} CD-{cd_num}'"
   ]
  },
  {
   "cell_type": "code",
   "execution_count": null,
   "id": "invisible-relay",
   "metadata": {},
   "outputs": [],
   "source": [
    "df.values.shape"
   ]
  },
  {
   "cell_type": "code",
   "execution_count": null,
   "id": "surprising-homework",
   "metadata": {},
   "outputs": [],
   "source": [
    "type(df.values)"
   ]
  },
  {
   "cell_type": "code",
   "execution_count": null,
   "id": "directed-private",
   "metadata": {},
   "outputs": [],
   "source": [
    "# Run PCA\n",
    "time_start = time.time()\n",
    "\n",
    "pca = PCA(n_components=5)\n",
    "pca_result = pca.fit_transform(df.values)\n",
    "\n",
    "print('PCA done! Time elapsed: {} seconds'.format(time.time()-time_start))"
   ]
  },
  {
   "cell_type": "code",
   "execution_count": null,
   "id": "settled-qualification",
   "metadata": {},
   "outputs": [],
   "source": [
    "print('Variance explained per principal component: {}'.format(pca.explained_variance_ratio_))"
   ]
  },
  {
   "cell_type": "code",
   "execution_count": null,
   "id": "prostate-ghana",
   "metadata": {},
   "outputs": [],
   "source": [
    "print('Explained variance ratio')\n",
    "display(np.cumsum(pca.explained_variance_ratio_))\n",
    "cov_mat = np.cov(pca_result.T)\n",
    "eigen_vals, eigen_vecs = np.linalg.eig(cov_mat)\n",
    "\n",
    "print('shape of eigen_vecs:', eigen_vecs.shape)\n",
    "\n",
    "print('Loadings')\n",
    "columns = [f'PC{-i} Loading' for i in range(1, len(eigen_vals) + 1)]\n",
    "df_loading = pd.DataFrame(eigen_vecs.real, columns=columns)\n",
    "df_loading\n",
    "# df_loading.astype(float)"
   ]
  },
  {
   "cell_type": "code",
   "execution_count": null,
   "id": "favorite-evaluation",
   "metadata": {},
   "outputs": [],
   "source": [
    "component_count = 5\n",
    "combined_exp_var = round(sum(pca.explained_variance_ratio_[:component_count]), ndigits=3)\n",
    "print(f'Combined explained variances for first {component_count} components: {combined_exp_var}')"
   ]
  },
  {
   "cell_type": "code",
   "execution_count": null,
   "id": "continuous-internet",
   "metadata": {},
   "outputs": [],
   "source": [
    "component_indicies = range(component_count)\n",
    "component_names = [f'PC-{i + 1}' for i in component_indicies]\n",
    "pca_df = pd.DataFrame(columns=component_names)\n",
    "for i, name in zip(component_indicies, component_names):\n",
    "    pca_df[name] = pca_result[:, i]\n",
    "\n",
    "_ = pd.plotting.scatter_matrix(pca_df, figsize=(12, 12))\n",
    "plt.suptitle(f'Scatter matrix with {component_count} principle components')"
   ]
  },
  {
   "cell_type": "markdown",
   "id": "czech-michael",
   "metadata": {},
   "source": [
    "### Post - update-prof-2021-03-04"
   ]
  },
  {
   "cell_type": "code",
   "execution_count": null,
   "id": "mounted-backup",
   "metadata": {},
   "outputs": [],
   "source": [
    "columns_nested = {\n",
    "    'total': ['total-population'],\n",
    "    'race': [\n",
    "         'race-white-nonhispanic',\n",
    "         'race-black-nonhispanic',\n",
    "         'race-asian-and-pacific-islander-nonhispanic',\n",
    "         'race-other-nonhispanic',\n",
    "         'race-two-or-more-races-nonhispanic',\n",
    "         'race-hispanic-origin',\n",
    "    ],\n",
    "    'sex': [\n",
    "         'sex-female',\n",
    "         'sex-male',\n",
    "    ],\n",
    "    'age': [\n",
    "         'age-under-5-years',\n",
    "         'age-5-to-9-years',\n",
    "         'age-10-to-14-years',\n",
    "         'age-15-to-19-years',\n",
    "         'age-20-to-24-years',\n",
    "         'age-25-to-44-years',\n",
    "         'age-45-to-64-years',\n",
    "         'age-65-years-and-over',\n",
    "         'age-nonminors',        \n",
    "    ],\n",
    "    'quarters': [\n",
    "         'persons-living-in-households',\n",
    "         'persons-living-in-group-quarters',\n",
    "    ],\n",
    "    'persons-living-in-family-households': [\n",
    "         'persons-living-in-family-households',\n",
    "         'persons-living-in-family-households-householder',\n",
    "         'persons-living-in-family-households-spouse',\n",
    "         'persons-living-in-family-households-own-child-under-18-years',\n",
    "         'persons-living-in-family-households-other-relatives',\n",
    "         'persons-living-in-family-households-nonrelatives',\n",
    "    ],\n",
    "    'persons-living-in-nonfamily-households': [\n",
    "         'persons-living-in-nonfamily-household',\n",
    "         'persons-living-in-nonfamily-household-householder',\n",
    "         'persons-living-in-nonfamily-household-senior-alone',\n",
    "         'persons-living-in-nonfamily-household-nonrelatives',  \n",
    "    ],\n",
    "    'households': [\n",
    "         'households',\n",
    "         'households-family-households',\n",
    "         'households-nonfamily-households',\n",
    "         'households-with-seniors',\n",
    "    ],\n",
    "    'family-households': [\n",
    "         'family-households-married-couple-family',\n",
    "         'family-households-married-couple-with-minor-child',\n",
    "         'family-households-female-householder-no-husband-present',\n",
    "         'family-households-female-householder-with-minor-child',\n",
    "         'family-households-male-householder-no-wife-present',\n",
    "         'family-households-male-householder-with-minor-child',\n",
    "    ],\n",
    "    'persons-per': [\n",
    "         'persons-per-family',\n",
    "         'persons-per-household',        \n",
    "    ],\n",
    "    'housing-units': [\n",
    "         'housing-units',\n",
    "         'housing-units-occupied',\n",
    "         'housing-units-occupied-renter',\n",
    "         'housing-units-occupied-owner',\n",
    "         'housing-unit-size-1-person',\n",
    "         'housing-unit-size-2-person',\n",
    "         'housing-unit-size-3-person',\n",
    "         'housing-unit-size-4-person',\n",
    "         'housing-unit-size-5-persons-and-over',\n",
    "         'housing-units-by-age-of-householder-15-to-24-years',\n",
    "         'housing-units-by-age-of-householder-25-to-44-years',\n",
    "         'housing-units-by-age-of-householder-45-to-64-years',\n",
    "         'housing-units-by-age-of-householder-65-years-and-over',\n",
    "    ],\n",
    "}"
   ]
  }
 ],
 "metadata": {
  "kernelspec": {
   "display_name": "Python 3",
   "language": "python",
   "name": "python3"
  },
  "language_info": {
   "codemirror_mode": {
    "name": "ipython",
    "version": 3
   },
   "file_extension": ".py",
   "mimetype": "text/x-python",
   "name": "python",
   "nbconvert_exporter": "python",
   "pygments_lexer": "ipython3",
   "version": "3.9.1"
  }
 },
 "nbformat": 4,
 "nbformat_minor": 5
}
