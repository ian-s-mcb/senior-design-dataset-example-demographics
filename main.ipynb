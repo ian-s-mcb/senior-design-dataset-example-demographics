{
 "cells": [
  {
   "cell_type": "markdown",
   "id": "handled-reality",
   "metadata": {},
   "source": [
    "# main.ipynb\n",
    "\n",
    "### CSc-59867 - Senior Design - Prof. Etemadpour\n",
    "\n",
    "* Purpose: exploratory data analysis on the NYC census demographics dataset from NYC Open Data\n",
    "* Date: 2021-02-26\n",
    "* Authors: Xin Chen, Ian S. McBride, Lifu Tao"
   ]
  },
  {
   "cell_type": "code",
   "execution_count": null,
   "id": "fluid-extra",
   "metadata": {},
   "outputs": [],
   "source": [
    "import matplotlib.pyplot as plt\n",
    "%matplotlib inline\n",
    "import pandas as pd"
   ]
  }
 ],
 "metadata": {
  "kernelspec": {
   "display_name": "Python 3",
   "language": "python",
   "name": "python3"
  },
  "language_info": {
   "codemirror_mode": {
    "name": "ipython",
    "version": 3
   },
   "file_extension": ".py",
   "mimetype": "text/x-python",
   "name": "python",
   "nbconvert_exporter": "python",
   "pygments_lexer": "ipython3",
   "version": "3.9.1"
  }
 },
 "nbformat": 4,
 "nbformat_minor": 5
}
