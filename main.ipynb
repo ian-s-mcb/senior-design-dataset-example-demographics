{
 "cells": [
  {
   "cell_type": "markdown",
   "id": "scheduled-treasury",
   "metadata": {},
   "source": [
    "# main.ipynb\n",
    "\n",
    "### CSc-59867 - Senior Design - Prof. Etemadpour\n",
    "\n",
    "* Purpose: exploratory data analysis on the NYC census demographics dataset from NYC Open Data\n",
    "* Date: 2021-02-26\n",
    "* Authors: Xin Chen, Ian S. McBride, Lifu Tao"
   ]
  },
  {
   "cell_type": "code",
   "execution_count": null,
   "id": "twelve-accident",
   "metadata": {
    "tags": []
   },
   "outputs": [],
   "source": [
    "import matplotlib.pyplot as plt\n",
    "%matplotlib inline\n",
    "import numpy as np\n",
    "import pandas as pd\n",
    "from sklearn.decomposition import PCA\n",
    "\n",
    "import time"
   ]
  },
  {
   "cell_type": "code",
   "execution_count": null,
   "id": "latin-medicine",
   "metadata": {
    "tags": []
   },
   "outputs": [],
   "source": [
    "# Read datasets into a DataFrame\n",
    "# Data came from:\n",
    "# https://data.cityofnewyork.us/City-Government/Census-Demographics-at-the-NYC-Community-District-/5unr-w4sc\n",
    "# Data was reorganized because the original spreadsheet wasn't formatted well\n",
    "df = pd.read_csv('data/demographics/nyc_demographics_2010_by_cd.csv', index_col='Variable')\n",
    "# display(df.info())\n",
    "display('Original dataframe')\n",
    "display(df)\n",
    "\n",
    "display('Transposed dataframe')\n",
    "df = df.transpose()\n",
    "display(df)\n",
    "\n",
    "display('Sorted dataframe')\n",
    "df.sort_index(inplace=True)\n",
    "display(df)"
   ]
  },
  {
   "cell_type": "code",
   "execution_count": null,
   "id": "proved-techno",
   "metadata": {},
   "outputs": [],
   "source": [
    "df.info()"
   ]
  },
  {
   "cell_type": "code",
   "execution_count": null,
   "id": "bulgarian-primary",
   "metadata": {
    "tags": []
   },
   "outputs": [],
   "source": [
    "# Helper for displaying CD numbers\n",
    "cd_boro_dict = {\n",
    "    1: 'Manhattan',\n",
    "    2: 'Bronx',\n",
    "    3: 'Brooklyn',\n",
    "    4: 'Queens',\n",
    "    5: 'Staten Island',\n",
    "}\n",
    "def cd_to_name(cd):\n",
    "    cd_str = str(cd)\n",
    "    if not len(cd_str) == 3:\n",
    "        raise Exception('incorrect length of CD')\n",
    "    cd_num = cd_str[1:]\n",
    "    boro = cd_boro_dict.get(int(cd_str[0]))\n",
    "    if not boro:\n",
    "        raise Exception('incorrect borough prefix in CD')\n",
    "    return f'{boro} CD-{cd_num}'"
   ]
  },
  {
   "cell_type": "code",
   "execution_count": null,
   "id": "permanent-manufacturer",
   "metadata": {},
   "outputs": [],
   "source": [
    "df.values.shape"
   ]
  },
  {
   "cell_type": "code",
   "execution_count": null,
   "id": "superb-breakfast",
   "metadata": {},
   "outputs": [],
   "source": [
    "type(df.values)"
   ]
  },
  {
   "cell_type": "code",
   "execution_count": null,
   "id": "aerial-hamburg",
   "metadata": {},
   "outputs": [],
   "source": [
    "# Run PCA\n",
    "time_start = time.time()\n",
    "\n",
    "pca = PCA(n_components=5)\n",
    "pca_result = pca.fit_transform(df.values)\n",
    "\n",
    "print('PCA done! Time elapsed: {} seconds'.format(time.time()-time_start))"
   ]
  },
  {
   "cell_type": "code",
   "execution_count": null,
   "id": "bronze-sixth",
   "metadata": {},
   "outputs": [],
   "source": [
    "print('Variance explained per principal component: {}'.format(pca.explained_variance_ratio_))"
   ]
  },
  {
   "cell_type": "code",
   "execution_count": null,
   "id": "polished-supply",
   "metadata": {},
   "outputs": [],
   "source": [
    "print('Explained variance ratio')\n",
    "display(np.cumsum(pca.explained_variance_ratio_))\n",
    "cov_mat = np.cov(pca_result.T)\n",
    "eigen_vals, eigen_vecs = np.linalg.eig(cov_mat)\n",
    "\n",
    "print('shape of eigen_vecs:', eigen_vecs.shape)\n",
    "\n",
    "print('Loadings')\n",
    "columns = [f'PC{-i} Loading' for i in range(1, len(eigen_vals) + 1)]\n",
    "df_loading = pd.DataFrame(eigen_vecs.real, columns=columns)\n",
    "df_loading\n",
    "# df_loading.astype(float)"
   ]
  },
  {
   "cell_type": "code",
   "execution_count": null,
   "id": "amateur-factor",
   "metadata": {},
   "outputs": [],
   "source": [
    "component_count = 5\n",
    "combined_exp_var = round(sum(pca.explained_variance_ratio_[:component_count]), ndigits=3)\n",
    "print(f'Combined explained variances for first {component_count} components: {combined_exp_var}')"
   ]
  },
  {
   "cell_type": "code",
   "execution_count": null,
   "id": "published-script",
   "metadata": {},
   "outputs": [],
   "source": [
    "component_indicies = range(component_count)\n",
    "component_names = [f'PC-{i + 1}' for i in component_indicies]\n",
    "pca_df = pd.DataFrame(columns=component_names)\n",
    "for i, name in zip(component_indicies, component_names):\n",
    "    pca_df[name] = pca_result[:, i]\n",
    "\n",
    "_ = pd.plotting.scatter_matrix(pca_df, figsize=(12, 12))\n",
    "plt.suptitle(f'Scatter matrix with {component_count} principle components')"
   ]
  },
  {
   "cell_type": "code",
   "execution_count": null,
   "id": "circular-reception",
   "metadata": {},
   "outputs": [],
   "source": []
  }
 ],
 "metadata": {
  "kernelspec": {
   "display_name": "Python 3",
   "language": "python",
   "name": "python3"
  },
  "language_info": {
   "codemirror_mode": {
    "name": "ipython",
    "version": 3
   },
   "file_extension": ".py",
   "mimetype": "text/x-python",
   "name": "python",
   "nbconvert_exporter": "python",
   "pygments_lexer": "ipython3",
   "version": "3.9.1"
  }
 },
 "nbformat": 4,
 "nbformat_minor": 5
}
