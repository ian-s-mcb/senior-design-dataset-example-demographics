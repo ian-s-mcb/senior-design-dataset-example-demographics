{
 "cells": [
  {
   "cell_type": "markdown",
   "id": "short-imperial",
   "metadata": {},
   "source": [
    "# main.ipynb\n",
    "\n",
    "### CSc-59867 - Senior Design - Prof. Etemadpour\n",
    "\n",
    "* Purpose: exploratory data analysis on the NYC census demographics dataset from NYC Open Data\n",
    "* Date: 2021-02-26\n",
    "* Authors: Xin Chen, Ian S. McBride, Lifu Tao"
   ]
  },
  {
   "cell_type": "code",
   "execution_count": null,
   "id": "smart-singles",
   "metadata": {
    "tags": []
   },
   "outputs": [],
   "source": [
    "import matplotlib.pyplot as plt\n",
    "%matplotlib inline\n",
    "import numpy as np\n",
    "import pandas as pd\n",
    "from sklearn.decomposition import PCA\n",
    "from sklearn.preprocessing import StandardScaler\n",
    "\n",
    "import time"
   ]
  },
  {
   "cell_type": "code",
   "execution_count": null,
   "id": "prime-courage",
   "metadata": {
    "tags": []
   },
   "outputs": [],
   "source": [
    "# Read datasets into a DataFrame\n",
    "# * Data came from:\n",
    "#     * https://data.cityofnewyork.us/City-Government/Census-Demographics-at-the-NYC-Community-District-/5unr-w4sc\n",
    "# * Data was reorganized because the original spreadsheet wasn't formatted well\n",
    "# * Discussion of variable meanings\n",
    "#     * https://www.2020census.gov/en/conducting-the-count/gq.html\n",
    "df = pd.read_csv('data/demographics/nyc_demographics_2010_by_cd.csv', index_col='variable_edit')\n",
    "df.drop(columns=['variable_orig'], inplace=True)\n",
    "df = df.transpose()\n",
    "df = df.astype(float)\n",
    "df.sort_index(inplace=True)\n",
    "display('Transposed, sorted dataframe')\n",
    "display(df)"
   ]
  },
  {
   "cell_type": "code",
   "execution_count": null,
   "id": "blessed-context",
   "metadata": {},
   "outputs": [],
   "source": [
    "display('Columns')\n",
    "df.info()"
   ]
  },
  {
   "cell_type": "code",
   "execution_count": null,
   "id": "amateur-fields",
   "metadata": {},
   "outputs": [],
   "source": [
    "display('Correlation matrix of features')\n",
    "df.corr()"
   ]
  },
  {
   "cell_type": "code",
   "execution_count": null,
   "id": "collective-shade",
   "metadata": {},
   "outputs": [],
   "source": [
    "columns = df.columns.to_list()\n",
    "columns_nested = {\n",
    "    'total': ['total-population'],\n",
    "    'race': [\n",
    "         'race-white-nonhispanic',\n",
    "         'race-black-nonhispanic',\n",
    "         'race-asian-and-pacific-islander-nonhispanic',\n",
    "         'race-other-nonhispanic',\n",
    "         'race-two-or-more-races-nonhispanic',\n",
    "         'race-hispanic-origin',\n",
    "    ],\n",
    "    'sex': [\n",
    "         'sex-female',\n",
    "         'sex-male',\n",
    "    ],\n",
    "    'age': [\n",
    "         'age-under-5-years',\n",
    "         'age-5-to-9-years',\n",
    "         'age-10-to-14-years',\n",
    "         'age-15-to-19-years',\n",
    "         'age-20-to-24-years',\n",
    "         'age-25-to-44-years',\n",
    "         'age-45-to-64-years',\n",
    "         'age-65-years-and-over',\n",
    "         'age-nonminors',        \n",
    "    ],\n",
    "    'persons-living-in': [\n",
    "         'persons-living-in-households',\n",
    "         'persons-living-in-group-quarters',\n",
    "    ],\n",
    "    'persons-living-in-family-households': [\n",
    "         'persons-living-in-family-households',\n",
    "         'persons-living-in-family-households-householder',\n",
    "         'persons-living-in-family-households-spouse',\n",
    "         'persons-living-in-family-households-own-child-under-18-years',\n",
    "         'persons-living-in-family-households-other-relatives',\n",
    "         'persons-living-in-family-households-nonrelatives',\n",
    "    ],\n",
    "    'persons-living-in-nonfamily-households': [\n",
    "         'persons-living-in-nonfamily-household',\n",
    "         'persons-living-in-nonfamily-household-householder',\n",
    "         'persons-living-in-nonfamily-household-senior-alone',\n",
    "         'persons-living-in-nonfamily-household-nonrelatives',  \n",
    "    ],\n",
    "    'households': [\n",
    "         'households',\n",
    "         'households-family-households',\n",
    "         'households-nonfamily-households',\n",
    "         'households-with-seniors',\n",
    "    ],\n",
    "    'family-households': [\n",
    "         'family-households-married-couple-family',\n",
    "         'family-households-married-couple-with-minor-child',\n",
    "         'family-households-female-householder-no-husband-present',\n",
    "         'family-households-female-householder-with-minor-child',\n",
    "         'family-households-male-householder-no-wife-present',\n",
    "         'family-households-male-householder-with-minor-child',\n",
    "    ],\n",
    "    'persons-per': [\n",
    "         'persons-per-family',\n",
    "         'persons-per-household',        \n",
    "    ],\n",
    "    'housing-units': [\n",
    "         'housing-units',\n",
    "         'housing-units-occupied',\n",
    "         'housing-units-occupied-renter',\n",
    "         'housing-units-occupied-owner',\n",
    "         'housing-unit-size-1-person',\n",
    "         'housing-unit-size-2-person',\n",
    "         'housing-unit-size-3-person',\n",
    "         'housing-unit-size-4-person',\n",
    "         'housing-unit-size-5-persons-and-over',\n",
    "         'housing-units-by-age-of-householder-15-to-24-years',\n",
    "         'housing-units-by-age-of-householder-25-to-44-years',\n",
    "         'housing-units-by-age-of-householder-45-to-64-years',\n",
    "         'housing-units-by-age-of-householder-65-years-and-over',\n",
    "    ],\n",
    "}"
   ]
  },
  {
   "cell_type": "code",
   "execution_count": null,
   "id": "corporate-characteristic",
   "metadata": {
    "tags": []
   },
   "outputs": [],
   "source": [
    "# Helper for displaying CD numbers\n",
    "cd_boro_dict = {\n",
    "    1: 'Manhattan',\n",
    "    2: 'Bronx',\n",
    "    3: 'Brooklyn',\n",
    "    4: 'Queens',\n",
    "    5: 'Staten Island',\n",
    "}\n",
    "def cd_to_name(cd):\n",
    "    cd_str = str(cd)\n",
    "    if not len(cd_str) == 3:\n",
    "        raise Exception('incorrect length of CD')\n",
    "    cd_num = cd_str[1:]\n",
    "    boro = cd_boro_dict.get(int(cd_str[0]))\n",
    "    if not boro:\n",
    "        raise Exception('incorrect borough prefix in CD')\n",
    "    return f'{boro} CD-{cd_num}'"
   ]
  },
  {
   "cell_type": "code",
   "execution_count": null,
   "id": "honey-balance",
   "metadata": {},
   "outputs": [],
   "source": [
    "def get_x(df, exclude_group=None):\n",
    "    # Select data\n",
    "    if exclude_group and columns_nested.get(exclude_group):\n",
    "        values = df.drop(columns=columns_nested[exclude_group]).values\n",
    "    else:\n",
    "        values = df.values\n",
    "    \n",
    "    scaler = StandardScaler()\n",
    "    X = scaler.fit_transform(values)\n",
    "    \n",
    "    return X\n",
    "\n",
    "print('Scale data')\n",
    "X = get_x(df)\n",
    "print('Shape:', X.shape)\n",
    "X"
   ]
  },
  {
   "cell_type": "code",
   "execution_count": null,
   "id": "labeled-expansion",
   "metadata": {},
   "outputs": [],
   "source": [
    "time_start = time.time()\n",
    "\n",
    "n_components = 5\n",
    "pca = PCA(n_components=n_components)\n",
    "pca_result = pca.fit_transform(X)\n",
    "\n",
    "print('PCA done! Time elapsed: {} seconds'.format(time.time()-time_start))\n",
    "\n",
    "print('Cumulative explained variance ratio')\n",
    "display(np.cumsum(pca.explained_variance_ratio_))\n",
    "\n",
    "print('Shape of components:', pca.components_.shape)"
   ]
  },
  {
   "cell_type": "code",
   "execution_count": null,
   "id": "unlikely-blackberry",
   "metadata": {},
   "outputs": [],
   "source": [
    "exp_var_pca = pca.explained_variance_ratio_\n",
    "x = range(1, len(exp_var_pca) + 1)\n",
    "\n",
    "fig = plt.figure(figsize=(8, 8))\n",
    "ax = fig.add_subplot(1, 1, 1)\n",
    "_ = plt.plot(\n",
    "    x,\n",
    "    exp_var_pca,\n",
    "    alpha=0.5,\n",
    "    marker='o',\n",
    ")\n",
    "_ = ax.set_xlabel('PC')\n",
    "_ = ax.set_ylabel('Explained variance ratio')\n",
    "_ = ax.set_xticks(x)\n",
    "_ = ax.set_title('PCA Results')"
   ]
  },
  {
   "cell_type": "code",
   "execution_count": null,
   "id": "defined-columbus",
   "metadata": {},
   "outputs": [],
   "source": [
    "# Inspired by the tutorial:\n",
    "# https://towardsdatascience.com/dive-into-pca-principal-component-analysis-with-python-43ded13ead21\n",
    "\n",
    "ticks = list(range(n_components))\n",
    "labels = [f'PC-{i}' for i in range(1, n_components + 1)]\n",
    "_ = plt.matshow(pca.components_, cmap='coolwarm')\n",
    "_ = plt.yticks(ticks, labels, fontsize=10)\n",
    "_ = plt.colorbar()\n",
    "_ = plt.xticks(range(len(df.columns)), df.columns, rotation=65, ha='left')\n",
    "_ = plt.title('Mixture of features in each PC')"
   ]
  },
  {
   "cell_type": "code",
   "execution_count": null,
   "id": "precise-enterprise",
   "metadata": {},
   "outputs": [],
   "source": [
    "# component_count = 5\n",
    "# combined_exp_var = round(sum(pca.explained_variance_ratio_[:component_count]), ndigits=3)\n",
    "# print(f'Combined explained variances for first {component_count} components: {combined_exp_var}')"
   ]
  },
  {
   "cell_type": "code",
   "execution_count": null,
   "id": "vanilla-following",
   "metadata": {},
   "outputs": [],
   "source": [
    "n_components\n",
    "component_indicies = range(n_components)\n",
    "component_names = [f'PC-{i + 1}' for i in component_indicies]\n",
    "pca_df = pd.DataFrame(columns=component_names)\n",
    "for i, name in zip(component_indicies, component_names):\n",
    "    pca_df[name] = pca_result[:, i]\n",
    "\n",
    "_ = pd.plotting.scatter_matrix(pca_df, figsize=(12, 12))\n",
    "_ = plt.suptitle(f'Scatter matrix with {n_components} principle components')"
   ]
  }
 ],
 "metadata": {
  "kernelspec": {
   "display_name": "Python 3",
   "language": "python",
   "name": "python3"
  },
  "language_info": {
   "codemirror_mode": {
    "name": "ipython",
    "version": 3
   },
   "file_extension": ".py",
   "mimetype": "text/x-python",
   "name": "python",
   "nbconvert_exporter": "python",
   "pygments_lexer": "ipython3",
   "version": "3.9.2"
  }
 },
 "nbformat": 4,
 "nbformat_minor": 5
}
